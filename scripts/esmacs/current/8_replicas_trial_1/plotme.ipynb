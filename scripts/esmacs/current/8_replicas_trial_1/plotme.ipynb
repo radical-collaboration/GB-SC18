{
 "cells": [
  {
   "cell_type": "code",
   "execution_count": 6,
   "metadata": {},
   "outputs": [
    {
     "name": "stdout",
     "output_type": "stream",
     "text": [
      "Using matplotlib backend: Qt5Agg\n"
     ]
    }
   ],
   "source": [
    "import pandas as pd\n",
    "import matplotlib.pyplot as plt\n",
    "import os\n",
    "import glob\n",
    "from radical.entk import Profiler\n",
    "import radical.analytics as ra\n",
    "import radical.utils as ru\n",
    "import radical.pilot as rp\n",
    "\n",
    "%matplotlib"
   ]
  },
  {
   "cell_type": "code",
   "execution_count": 2,
   "metadata": {
    "collapsed": true
   },
   "outputs": [],
   "source": [
    "# Generate task uids\n",
    "\n",
    "def get_task_uids(num_pipelines):\n",
    "    \n",
    "    num_tasks = num_pipelines*7*1\n",
    "    task_uids = []\n",
    "    for t in range(num_tasks):\n",
    "        task_uids.append('radical.entk.task.%04d'%t)\n",
    "\n",
    "    return task_uids"
   ]
  },
  {
   "cell_type": "code",
   "execution_count": 3,
   "metadata": {
    "collapsed": true
   },
   "outputs": [],
   "source": [
    "# Get information from all the entk profiles\n",
    "\n",
    "def get_entk_info(src):\n",
    "    \n",
    "    p = Profiler(src = src + '/../')\n",
    "    \n",
    "    task_uids = get_task_uids(pipelines)\n",
    "    \n",
    "    entk_total_task_dur = p.duration(task_uids, states=['SCHEDULING','DONE'])\n",
    "    entk_task_exec_dur = p.duration(task_uids, states=['SUBMITTED','EXECUTED'])\n",
    "    \n",
    "    print 'EnTK total task duration: ', entk_total_task_dur\n",
    "    print 'EnTK task execution duration: ', entk_task_exec_dur\n",
    "    "
   ]
  },
  {
   "cell_type": "code",
   "execution_count": 4,
   "metadata": {
    "collapsed": true
   },
   "outputs": [],
   "source": [
    "# Get information from all the rp profile files and json file\n",
    "# returns 0,0 if no rp files are found\n",
    "\n",
    "def get_rp_info(src):\n",
    "\n",
    "    json_files = glob.glob('%s/*.json'%src)\n",
    "    json_file = json_files[0]\n",
    "    json      = ru.read_json(json_file)\n",
    "    sid       = os.path.basename(json_file)[:-5]\n",
    "\n",
    "    session = ra.Session(sid, 'radical.pilot', src=src)\n",
    "    units = session.filter(etype='unit', inplace=False)\n",
    "\n",
    "    exec_dur = units.duration([rp.AGENT_EXECUTING, rp.AGENT_STAGING_OUTPUT_PENDING])\n",
    "    rp_dur = units.duration([rp.UMGR_SCHEDULING, rp.DONE])\n",
    "    \n",
    "#     for unit in units.get()[:1]:\n",
    "#         print unit\n",
    "\n",
    "    print 'RP TTE: ', exec_dur\n",
    "    \n",
    "    # Note: This is the TTR derived from the units, not the pilot. All tasks are submitted after the pilot is Active\n",
    "    print 'RP TTR: ', rp_dur\n"
   ]
  },
  {
   "cell_type": "code",
   "execution_count": 7,
   "metadata": {
    "scrolled": false
   },
   "outputs": [
    {
     "name": "stdout",
     "output_type": "stream",
     "text": [
      "EnTK total task duration:  2640.26300001\n",
      "EnTK task execution duration:  2630.51989985\n",
      "RP TTE:  2586.2560997\n",
      "RP TTR:  2561.21889997\n"
     ]
    }
   ],
   "source": [
    "df = pd.DataFrame(columns=['EnTK overhead', 'RP overhead', 'Execution duration'])\n",
    "\n",
    "pipelines_list = [8]\n",
    "\n",
    "for pipelines in pipelines_list:\n",
    "    \n",
    "    src = glob.glob('./rp.session*'.format(pipelines))\n",
    "    src_cpy = list(src)\n",
    "    #print src\n",
    "    for f in src:\n",
    "        if f.split('.')[-1] == 'json':\n",
    "            src_cpy.remove(f)\n",
    "\n",
    "    src = src_cpy[0]\n",
    "    \n",
    "    get_entk_info(src)\n",
    "    get_rp_info(src)    "
   ]
  },
  {
   "cell_type": "code",
   "execution_count": null,
   "metadata": {
    "collapsed": true
   },
   "outputs": [],
   "source": []
  }
 ],
 "metadata": {
  "kernelspec": {
   "display_name": "Python 2",
   "language": "python",
   "name": "python2"
  },
  "language_info": {
   "codemirror_mode": {
    "name": "ipython",
    "version": 2
   },
   "file_extension": ".py",
   "mimetype": "text/x-python",
   "name": "python",
   "nbconvert_exporter": "python",
   "pygments_lexer": "ipython2",
   "version": "2.7.13"
  }
 },
 "nbformat": 4,
 "nbformat_minor": 2
}
