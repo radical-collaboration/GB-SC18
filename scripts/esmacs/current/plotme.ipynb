{
 "cells": [
  {
   "cell_type": "code",
   "execution_count": 20,
   "metadata": {},
   "outputs": [],
   "source": [
    "import pandas as pd\n",
    "import matplotlib.pyplot as plt\n",
    "import matplotlib as mpl\n",
    "import os\n",
    "from __future__ import unicode_literals\n",
    "from IPython.core.display import display, HTML\n",
    "import glob\n",
    "from radical.entk import Profiler\n",
    "import radical.analytics as ra\n",
    "import radical.utils as ru\n",
    "import radical.pilot as rp\n",
    "\n",
    "\n",
    "pd.set_option('expand_frame_repr', False)\n",
    "pd.set_option('display.max_rows', 50)\n",
    "\n",
    "%matplotlib inline"
   ]
  },
  {
   "cell_type": "code",
   "execution_count": 62,
   "metadata": {},
   "outputs": [
    {
     "data": {
      "text/html": [
       "<style>.container { width:100% !important; }</style>"
      ],
      "text/plain": [
       "<IPython.core.display.HTML object>"
      ]
     },
     "metadata": {},
     "output_type": "display_data"
    }
   ],
   "source": [
    "# Global configurations\n",
    "# ---------------------\n",
    "\n",
    "# Expand the notebook to the width of the browser\n",
    "display(HTML(\"<style>.container { width:100% !important; }</style>\"))\n",
    "\n",
    "# Matplotlib style\n",
    "plt.style.use('seaborn-colorblind')\n",
    "\n",
    "# Use LaTeX and its body font for the diagrams' text.\n",
    "mpl.rcParams['text.usetex'] = True\n",
    "mpl.rcParams['text.latex.unicode'] = True\n",
    "mpl.rcParams['font.family'] = 'serif'\n",
    "mpl.rcParams['font.serif']  = ['Nimbus Roman Becker No9L']\n",
    "\n",
    "# Font sizes\n",
    "SIZE = 24\n",
    "plt.rc('font', size=SIZE)  # controls default text sizes\n",
    "plt.rc('axes', titlesize=SIZE)  # fontsize of the axes title\n",
    "plt.rc('axes', labelsize=SIZE)  # fontsize of the x any y labels\n",
    "plt.rc('xtick', labelsize=SIZE)  # fontsize of the tick labels\n",
    "plt.rc('ytick', labelsize=SIZE)  # fontsize of the tick labels\n",
    "plt.rc('legend', fontsize=SIZE-2)  # legend fontsize\n",
    "plt.rc('figure', titlesize=SIZE)  # # size of the figure title\n",
    "\n",
    "# Use thinner lines for axes to avoid distractions.\n",
    "mpl.rcParams['axes.linewidth']    = 1\n",
    "mpl.rcParams['xtick.major.width'] = 1\n",
    "mpl.rcParams['xtick.minor.width'] = 1\n",
    "mpl.rcParams['ytick.major.width'] = 1\n",
    "mpl.rcParams['ytick.minor.width'] = 1\n",
    "mpl.rcParams['lines.linewidth'] = 2\n",
    "\n",
    "\n",
    "# Do not use a box for the legend to avoid distractions.\n",
    "mpl.rcParams['legend.frameon'] = False\n",
    "\n",
    "# Restore part of matplotlib 1.5 behavior\n",
    "mpl.rcParams['patch.force_edgecolor'] = True\n",
    "mpl.rcParams['errorbar.capsize'] = 3\n",
    "\n",
    "# Helpers\n",
    "# -------\n",
    "\n",
    "# Use coordinated colors. These are the \"Tableau 20\" colors as \n",
    "# RGB. Each pair is strong/light. For a theory of color    \n",
    "tableau20 = [(31 , 119, 180), (174, 199, 232), # blue        [ 0,1 ]\n",
    "             (255, 127, 14 ), (255, 187, 120), # orange      [ 2,3 ]\n",
    "             (44 , 160, 44 ), (152, 223, 138), # green       [ 4,5 ]\n",
    "             (214, 39 , 40 ), (255, 152, 150), # red         [ 6,7 ]\n",
    "             (148, 103, 189), (197, 176, 213), # purple      [ 8,9 ]\n",
    "             (140, 86 , 75 ), (196, 156, 148), # brown       [10,11]\n",
    "             (227, 119, 194), (247, 182, 210), # pink        [12,13]\n",
    "             (188, 189, 34 ), (219, 219, 141), # yellow      [14,15]\n",
    "             (23 , 190, 207), (158, 218, 229), # cyan        [16,17]\n",
    "             (65 , 68 , 81 ), (96 , 99 , 106), # gray        [18,19]\n",
    "             (127, 127, 127), (143, 135, 130), # gray        [20,21] \n",
    "             (165, 172, 175), (199, 199, 199), # gray        [22,23]\n",
    "             (207, 207, 207)]                   # gray        [24]\n",
    "  \n",
    "# Scale the RGB values to the [0, 1] range, which is the format \n",
    "# matplotlib accepts.    \n",
    "for i in range(len(tableau20)):  \n",
    "    r, g, b = tableau20[i]  \n",
    "    tableau20[i] = (r / 255., g / 255., b / 255.)    \n",
    "\n",
    "# Return a single plot without right and top axes\n",
    "def fig_setup():\n",
    "    fig = plt.figure(figsize=(16,8))\n",
    "    ax = fig.add_subplot(111)    \n",
    "    ax.get_xaxis().tick_bottom()  \n",
    "    ax.get_yaxis().tick_left()\n",
    "    \n",
    "    return fig, ax"
   ]
  },
  {
   "cell_type": "code",
   "execution_count": 15,
   "metadata": {
    "collapsed": true
   },
   "outputs": [],
   "source": [
    "# Generate task uids\n",
    "\n",
    "def get_task_uids(num_pipelines):\n",
    "    \n",
    "    num_tasks = num_pipelines*7*1\n",
    "    task_uids = []\n",
    "    for t in range(num_tasks):\n",
    "        task_uids.append('radical.entk.task.%04d'%t)\n",
    "\n",
    "    return task_uids"
   ]
  },
  {
   "cell_type": "code",
   "execution_count": 16,
   "metadata": {
    "collapsed": true
   },
   "outputs": [],
   "source": [
    "# Get information from all the entk profiles\n",
    "\n",
    "def get_entk_info(src):\n",
    "    \n",
    "    p = Profiler(src = src + '/../')\n",
    "    \n",
    "    task_uids = get_task_uids(pipelines)\n",
    "    \n",
    "    entk_total_task_dur = p.duration(task_uids, states=['SCHEDULING','DONE'])\n",
    "    entk_task_exec_dur = p.duration(task_uids, states=['SUBMITTED','EXECUTED'])\n",
    "    \n",
    "    print 'EnTK total task duration: ', entk_total_task_dur\n",
    "    print 'EnTK task execution duration: ', entk_task_exec_dur\n",
    "    \n",
    "    return entk_total_task_dur, entk_task_exec_dur\n",
    "    "
   ]
  },
  {
   "cell_type": "code",
   "execution_count": 41,
   "metadata": {
    "collapsed": true
   },
   "outputs": [],
   "source": [
    "# Get information from all the rp profile files and json file\n",
    "# returns 0,0 if no rp files are found\n",
    "\n",
    "def get_rp_info(src):\n",
    "\n",
    "\n",
    "    json_files = glob.glob('%s/*.json'%src)\n",
    "    json_file = json_files[0]\n",
    "    json      = ru.read_json(json_file)\n",
    "    sid       = os.path.basename(json_file)[:-5]\n",
    "\n",
    "    session = ra.Session(sid, 'radical.pilot', src=src)\n",
    "    units = session.filter(etype='unit', inplace=False)\n",
    "\n",
    "    exec_dur = units.duration([rp.AGENT_EXECUTING, rp.AGENT_STAGING_OUTPUT_PENDING])\n",
    "    rp_dur = units.duration([rp.UMGR_SCHEDULING, rp.DONE])\n",
    "\n",
    "    print exec_dur, rp_dur\n",
    "\n",
    "    return rp_dur, exec_dur\n"
   ]
  },
  {
   "cell_type": "code",
   "execution_count": 48,
   "metadata": {
    "scrolled": false
   },
   "outputs": [
    {
     "name": "stdout",
     "output_type": "stream",
     "text": [
      "EnTK total task duration:  2640.26300001\n",
      "EnTK task execution duration:  2630.51989985\n",
      "2586.2560997 2561.21889997\n",
      "EnTK total task duration:  3014.12719989\n",
      "EnTK task execution duration:  3012.13020015\n",
      "2952.80139995 2891.20860052\n",
      "EnTK total task duration:  3370.53279996\n",
      "EnTK task execution duration:  3367.55229998\n",
      "3331.15039968 3134.70500016\n",
      "EnTK total task duration:  3594.43320036\n",
      "EnTK task execution duration:  3591.26870084\n",
      "3532.9447 3321.39940023\n"
     ]
    }
   ],
   "source": [
    "# df = pd.DataFrame(columns=['EnTK overhead', 'RP overhead', 'Execution duration'])\n",
    "df = pd.DataFrame(columns=['EnTK Management Overhead', 'Task Execution Time'])\n",
    "df_rp = pd.DataFrame(columns=['TTR', 'TTE'])\n",
    "\n",
    "pipelines_list = [8,16,32,64]\n",
    "\n",
    "for pipelines in pipelines_list:\n",
    "    \n",
    "    src = glob.glob('./{0}_replicas_trial_1/rp.session*'.format(pipelines))\n",
    "    src_cpy = list(src)\n",
    "    #print src\n",
    "    for f in src:\n",
    "        if f.split('.')[-1] == 'json':\n",
    "            src_cpy.remove(f)\n",
    "\n",
    "    src = src_cpy[0]\n",
    "    \n",
    "    ttr, tte = get_entk_info(src)\n",
    "    rp_dur, exec_dur = get_rp_info(src)\n",
    "        \n",
    "    df.loc[str(pipelines)] = [ttr-tte,tte]\n",
    "    df_rp.loc[str(pipelines)] = [ttr,tte]"
   ]
  },
  {
   "cell_type": "code",
   "execution_count": 63,
   "metadata": {},
   "outputs": [
    {
     "data": {
      "image/png": "[encoded data removed]",
      "text/plain": [
       "<matplotlib.figure.Figure at 0x7feda75fab10>"
      ]
     },
     "metadata": {},
     "output_type": "display_data"
    }
   ],
   "source": [
    "fig, ax = fig_setup()\n",
    "\n",
    "width=0.15\n",
    "ax = df.plot(kind='bar', \n",
    "             ax=ax,\n",
    "             y=df.columns.drop('Task Execution Time').tolist(),\n",
    "             fontsize=SIZE,\n",
    "             width=width,\n",
    "             position=1,\n",
    "             title='ESMACS NAMD Workload - 32 cores per replica (RCT stack: feature/gpu)',\n",
    "             legend=False)\n",
    "\n",
    "ax2 = df['Task Execution Time'].plot(secondary_y=True, width=0.15, color=tableau20[10], legend=False, position=0, kind='bar')\n",
    "\n",
    "\n",
    "ax.set_ylim(0,20)\n",
    "ax.set_xlabel('No. of replicas', fontsize=SIZE)\n",
    "ax.set_ylabel('Time (seconds)', fontsize=SIZE)\n",
    "ax2.set_ylabel('Time (seconds)', fontsize=SIZE)\n",
    "ax.set_title(ax.get_title(), fontsize=SIZE)\n",
    "\n",
    "h1, l1 = ax.get_legend_handles_labels()\n",
    "h2, l2 = ax2.get_legend_handles_labels()\n",
    "labels = l1 + [l2[0] + '(right)']\n",
    "handles = h1 + h2\n",
    "plt.legend(handles,labels,fontsize=SIZE, loc='upper left')\n",
    "\n",
    "fig.savefig('./plots/esmacs_32_cpr_gpu_stack.pdf', dpi=100, bbox_inches='tight')\n",
    "fig.savefig('./plots/esmacs_32_cpr_gpu_stack.png', dpi=100, bbox_inches='tight')"
   ]
  },
  {
   "cell_type": "code",
   "execution_count": 45,
   "metadata": {},
   "outputs": [
    {
     "data": {
      "text/html": [
       "<div>\n",
       "<style>\n",
       "    .dataframe thead tr:only-child th {\n",
       "        text-align: right;\n",
       "    }\n",
       "\n",
       "    .dataframe thead th {\n",
       "        text-align: left;\n",
       "    }\n",
       "\n",
       "    .dataframe tbody tr th {\n",
       "        vertical-align: top;\n",
       "    }\n",
       "</style>\n",
       "<table border=\"1\" class=\"dataframe\">\n",
       "  <thead>\n",
       "    <tr style=\"text-align: right;\">\n",
       "      <th></th>\n",
       "      <th>EnTK Management Overhead</th>\n",
       "      <th>Task Execution Time</th>\n",
       "    </tr>\n",
       "  </thead>\n",
       "  <tbody>\n",
       "    <tr>\n",
       "      <th>8</th>\n",
       "      <td>79.044100</td>\n",
       "      <td>2630.519900</td>\n",
       "    </tr>\n",
       "    <tr>\n",
       "      <th>16</th>\n",
       "      <td>122.918599</td>\n",
       "      <td>3012.130200</td>\n",
       "    </tr>\n",
       "    <tr>\n",
       "      <th>32</th>\n",
       "      <td>235.827800</td>\n",
       "      <td>3367.552300</td>\n",
       "    </tr>\n",
       "    <tr>\n",
       "      <th>64</th>\n",
       "      <td>273.033800</td>\n",
       "      <td>3591.268701</td>\n",
       "    </tr>\n",
       "  </tbody>\n",
       "</table>\n",
       "</div>"
      ],
      "text/plain": [
       "    EnTK Management Overhead  Task Execution Time\n",
       "8                  79.044100          2630.519900\n",
       "16                122.918599          3012.130200\n",
       "32                235.827800          3367.552300\n",
       "64                273.033800          3591.268701"
      ]
     },
     "execution_count": 45,
     "metadata": {},
     "output_type": "execute_result"
    }
   ],
   "source": [
    "df"
   ]
  },
  {
   "cell_type": "code",
   "execution_count": null,
   "metadata": {
    "collapsed": true
   },
   "outputs": [],
   "source": []
  }
 ],
 "metadata": {
  "kernelspec": {
   "display_name": "Python 2",
   "language": "python",
   "name": "python2"
  },
  "language_info": {
   "codemirror_mode": {
    "name": "ipython",
    "version": 2
   },
   "file_extension": ".py",
   "mimetype": "text/x-python",
   "name": "python",
   "nbconvert_exporter": "python",
   "pygments_lexer": "ipython2",
   "version": "2.7.13"
  }
 },
 "nbformat": 4,
 "nbformat_minor": 2
}
